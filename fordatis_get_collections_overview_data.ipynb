{
 "cells": [
  {
   "cell_type": "markdown",
   "id": "ea9d41ab",
   "metadata": {},
   "source": [
    "# FORDATIS - Repositorium für Forschungsdaten der FhG\n",
    "\n",
    "<table table border=\"1\" align=\"left\">\n",
    " <tbody>\n",
    "    <tr>\n",
    "      <td>Autor: </td>\n",
    "      <td style=\"text-align: left\">Antje Schroeder (antje.schroeder@zv.fraunhofer.de)</td>\n",
    "    </tr>\n",
    "    <tr>\n",
    "      <td>Stand: </td>\n",
    "      <td style=\"text-align: left\">05/05/2023</td>\n",
    "    </tr>\n",
    "    <tr>\n",
    "      <td>Zustand: </td>\n",
    "      <td style=\"text-align: left\">lauffähig, fertig</td>\n",
    "    </tr>\n",
    " </tbody>\n",
    "</table>\n",
    "\n",
    "<br><br><br><br><br>\n",
    "\n",
    "Dieses Skript fragt die **collections** aus FORDATIS ab. Die FhI sind in Collections organisiert. Es wird eine Ausgabedatei erstellt, die Metadaten zu jedem Datensatz enthält, u. a. die Anzahl Datensätze pro Institut, die in FORDATIS angelegt wurden. <br>\n",
    "\n",
    "* Eingabedatei: keine</br>\n",
    "* Ausgabedatei: fordatis_collections.csv</br>\n",
    "* Datenverzeichnis: ../data</br>\n",
    "\n",
    "Dieses Skript benutzt die DSpace 6 Restfull-API:\n",
    "* https://fordatis.fraunhofer.de/apidocu.jsp\n",
    "* https://wiki.lyrasis.org/display/DSDOC6x/REST+API\n"
   ]
  },
  {
   "cell_type": "code",
   "execution_count": 1,
   "id": "ac6abd75",
   "metadata": {},
   "outputs": [],
   "source": [
    "# Import modules\n",
    "\n",
    "import urllib.request\n",
    "import json\n",
    "import pandas as pd\n",
    "import csv"
   ]
  },
  {
   "cell_type": "code",
   "execution_count": 2,
   "id": "944dc810",
   "metadata": {},
   "outputs": [],
   "source": [
    "#Define environment \n",
    "\n",
    "output_dir = \"./data/\"\n",
    "output_file = output_dir + \"fordatis_collections.csv\"\n",
    "\n",
    "base_url = \"https://fordatis.fraunhofer.de/rest/\"\n",
    "collections = \"communities/f34ca8e5-96fd-472a-adda-c14cc690da58/collections\"\n",
    "\n",
    "fields = ['uuid', 'handle', 'name', 'number of records']\n",
    "\n",
    "i = 0"
   ]
  },
  {
   "cell_type": "code",
   "execution_count": 3,
   "id": "55c7a931",
   "metadata": {},
   "outputs": [],
   "source": [
    "# Open output file\n",
    "with open(output_file, 'w', newline='', encoding=\"utf-8\") as f: # prepare output file \n",
    "    write = csv.writer(f)\n",
    "    write.writerow(fields) # write header to outputfile"
   ]
  },
  {
   "cell_type": "code",
   "execution_count": 4,
   "id": "92b22d78",
   "metadata": {},
   "outputs": [],
   "source": [
    "# Construct request url\n",
    "\n",
    "url = base_url + collections"
   ]
  },
  {
   "cell_type": "code",
   "execution_count": 5,
   "id": "cda17c8d",
   "metadata": {},
   "outputs": [],
   "source": [
    "# Read data and create a pandas dataframe\n",
    "dataset = urllib.request.urlopen(url).read()\n",
    "dataset = json.loads(dataset)\n",
    "df = pd.DataFrame(dataset)"
   ]
  },
  {
   "cell_type": "code",
   "execution_count": 6,
   "id": "86613e29",
   "metadata": {},
   "outputs": [],
   "source": [
    "# Get no of records to iter\n",
    "no_of_records = len(df)"
   ]
  },
  {
   "cell_type": "code",
   "execution_count": 7,
   "id": "40231f50",
   "metadata": {},
   "outputs": [
    {
     "name": "stdout",
     "output_type": "stream",
     "text": [
      "all things done.\n"
     ]
    }
   ],
   "source": [
    "# Fetch data from data frame \n",
    "\n",
    "for i in range(no_of_records):\n",
    "    uuid = dataset[i][\"uuid\"]\n",
    "    name = dataset[i][\"name\"]\n",
    "    handle = dataset[i][\"handle\"]\n",
    "    no_of_items = dataset[i][\"numberItems\"]\n",
    "    mylist = [[uuid, handle, name, no_of_items]]\n",
    "    \n",
    "    with open(output_file, 'a', newline='', encoding=\"utf-8\") as f:\n",
    "                write = csv.writer(f)\n",
    "                write.writerows(mylist)\n",
    "print(\"all things done.\")"
   ]
  }
 ],
 "metadata": {
  "kernelspec": {
   "display_name": "Python 3",
   "language": "python",
   "name": "python3"
  },
  "language_info": {
   "codemirror_mode": {
    "name": "ipython",
    "version": 3
   },
   "file_extension": ".py",
   "mimetype": "text/x-python",
   "name": "python",
   "nbconvert_exporter": "python",
   "pygments_lexer": "ipython3",
   "version": "3.8.8"
  }
 },
 "nbformat": 4,
 "nbformat_minor": 5
}
