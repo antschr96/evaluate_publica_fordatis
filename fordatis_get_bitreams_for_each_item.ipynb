{
 "cells": [
  {
   "cell_type": "markdown",
   "id": "5fb6643c",
   "metadata": {},
   "source": [
    "# FORDATIS - Repositorium für Forschungsdaten der FhG\n",
    "\n",
    "<table table border=\"1\" align=\"left\">\n",
    " <tbody>\n",
    "    <tr>\n",
    "      <td>Autor: </td>\n",
    "      <td style=\"text-align: left\">Antje Schroeder (antje.schroeder@zv.fraunhofer.de)</td>\n",
    "    </tr>\n",
    "    <tr>\n",
    "      <td>Stand: </td>\n",
    "      <td style=\"text-align: left\">05/05/2023</td>\n",
    "    </tr>\n",
    "    <tr>\n",
    "      <td>Zustand: </td>\n",
    "      <td style=\"text-align: left\">lauffähig, fertig</td>\n",
    "    </tr>\n",
    " </tbody>\n",
    "</table>\n",
    "\n",
    "<br><br><br><br><br>\n",
    "\n",
    "Voraussetzung: Das Skript **fordatis_get_items.ipynb** erzeugt die Eingabedatei fordatis_uuids.csv\n",
    "\n",
    "Dieses Skript benutzt eine Eingabedatei, die die UUID (unique identifer) eines FORDATIS-Items enthält. Mit der UUID wird eine Abfrage auf die FORDATIS bistreams durch und gibt Metadaten der Bitstreams zurück. Diese werden in eine Datei geschrieben. <br>\n",
    "\n",
    "* Eingabedatei: fordatis_item_uuids.csv</br>\n",
    "* Ausgabedatei: fordatis_bitstream_metadata.csv</br>\n",
    "* Datenverzeichnis: ./data</br>\n",
    "\n",
    "Dieses Skript benutzt die DSpace 6 Restfull-API:\n",
    "* https://fordatis.fraunhofer.de/apidocu.jsp\n",
    "* https://wiki.lyrasis.org/display/DSDOC6x/REST+API"
   ]
  },
  {
   "cell_type": "code",
   "execution_count": 9,
   "id": "194b4c6a",
   "metadata": {},
   "outputs": [],
   "source": [
    "# Import modules\n",
    "\n",
    "import urllib.request\n",
    "import json\n",
    "import pandas as pd\n",
    "import csv\n",
    "import datetime"
   ]
  },
  {
   "cell_type": "code",
   "execution_count": 10,
   "id": "180da8c8",
   "metadata": {},
   "outputs": [],
   "source": [
    "#Define environment \n",
    "\n",
    "output_dir = \"./data/\"\n",
    "input_uuids = output_dir + \"fordatis_item_uuids.csv\"\n",
    "output_bitstream_metadata = output_dir + \"fordatis_bitstream_metadata.csv\"\n",
    "\n",
    "base_url = \"https://fordatis.fraunhofer.de/rest/items/\"\n",
    "bitstreams = \"/bitstreams\"\n",
    "\n",
    "fields = ['item_uuid','bitstream_uuid', 'sequenceID', 'file_name', 'bundle_name', 'datei_format', 'mime_type', 'file_size', 'link']\n",
    "\n",
    "i = 0"
   ]
  },
  {
   "cell_type": "code",
   "execution_count": 11,
   "id": "c3fd8c70",
   "metadata": {},
   "outputs": [],
   "source": [
    "# Open output file\n",
    "with open(output_bitstream_metadata, 'w', newline='', encoding=\"utf-8\") as f: # prepare output file \n",
    "    write = csv.writer(f)\n",
    "    write.writerow(fields) # write header to outputfile"
   ]
  },
  {
   "cell_type": "code",
   "execution_count": 12,
   "id": "05dd5e10",
   "metadata": {},
   "outputs": [
    {
     "name": "stdout",
     "output_type": "stream",
     "text": [
      "all things done.\n"
     ]
    }
   ],
   "source": [
    "# Open input file\n",
    "input_file = open(input_uuids)\n",
    "\n",
    "# Construct request url for each line in input file\n",
    "for line in input_file:\n",
    "    item_uuid = line.rstrip('\\n')\n",
    "    url = base_url + item_uuid + bitstreams\n",
    "            \n",
    "    # Read data and create a pandas dataframe\n",
    "    dataset = urllib.request.urlopen(url).read()\n",
    "    dataset = json.loads(dataset)\n",
    "    df = pd.DataFrame(dataset)\n",
    "    \n",
    "    # Get no of records to iter\n",
    "    no_of_records = len(df)\n",
    "    \n",
    "    # Fetch data from data frame \n",
    "\n",
    "    for i in range(no_of_records):\n",
    "        bitstream_uuid = dataset[i][\"uuid\"]\n",
    "        sequenceID = dataset[i][\"sequenceId\"]\n",
    "        name = dataset[i][\"name\"]\n",
    "        bundleName = dataset[i][\"bundleName\"]\n",
    "        datei_format = dataset[i][\"format\"]\n",
    "        datei_format = datei_format.replace(\"; \", \" \")\n",
    "        mimeType = dataset[i][\"mimeType\"]\n",
    "        size = dataset[i][\"sizeBytes\"]\n",
    "        link = dataset[i][\"retrieveLink\"]\n",
    "        mylist = [[item_uuid, bitstream_uuid, sequenceID, name, bundleName, datei_format, mimeType, size, link]]\n",
    "        \n",
    "        with open(output_bitstream_metadata, 'a', newline='', encoding=\"utf-8\") as f:\n",
    "                write = csv.writer(f)\n",
    "                write.writerows(mylist)\n",
    "                \n",
    "print(\"all things done.\")\n",
    "input_file.close()"
   ]
  },
  {
   "cell_type": "code",
   "execution_count": null,
   "id": "2bc4916f",
   "metadata": {},
   "outputs": [],
   "source": []
  }
 ],
 "metadata": {
  "kernelspec": {
   "display_name": "Python 3",
   "language": "python",
   "name": "python3"
  },
  "language_info": {
   "codemirror_mode": {
    "name": "ipython",
    "version": 3
   },
   "file_extension": ".py",
   "mimetype": "text/x-python",
   "name": "python",
   "nbconvert_exporter": "python",
   "pygments_lexer": "ipython3",
   "version": "3.8.8"
  }
 },
 "nbformat": 4,
 "nbformat_minor": 5
}
